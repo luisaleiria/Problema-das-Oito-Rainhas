{
  "nbformat": 4,
  "nbformat_minor": 0,
  "metadata": {
    "colab": {
      "provenance": []
    },
    "kernelspec": {
      "name": "python3",
      "display_name": "Python 3"
    },
    "language_info": {
      "name": "python"
    }
  },
  "cells": [
    {
      "cell_type": "code",
      "execution_count": null,
      "metadata": {
        "id": "5a2s_OtmQ2IZ"
      },
      "outputs": [],
      "source": [
        "import numpy as np\n",
        "import random"
      ]
    },
    {
      "cell_type": "code",
      "source": [
        "probRECOMBINACAO = 0.9\n",
        "probMUTACAO = 0.4\n",
        "tamPOPULACAO = 100\n",
        "contFitness = 0 #contador para ver quando chega em 10 mil"
      ],
      "metadata": {
        "id": "_GlgCXmtUgN7"
      },
      "execution_count": null,
      "outputs": []
    },
    {
      "cell_type": "code",
      "source": [
        "# Gerando uma população\n",
        "new_population = [np.random.permutation(np.arange(1, 9)) for _ in range(tamPOPULACAO)] # Inicializando N indivíduos formados por permutações aleatórias de 1 a 8\n",
        "\n",
        "print(new_population) # Mostrando os indivíduos gerados"
      ],
      "metadata": {
        "colab": {
          "base_uri": "https://localhost:8080/"
        },
        "id": "4ldfSO_AQ3Yv",
        "outputId": "d619921f-d4fa-4efb-9c84-5ea2f90b4b8a"
      },
      "execution_count": null,
      "outputs": [
        {
          "output_type": "stream",
          "name": "stdout",
          "text": [
            "[array([6, 7, 8, 2, 4, 3, 5, 1]), array([6, 1, 3, 4, 7, 5, 2, 8]), array([6, 7, 1, 2, 8, 4, 5, 3]), array([2, 4, 7, 1, 6, 8, 3, 5]), array([8, 2, 3, 6, 5, 4, 7, 1]), array([8, 5, 2, 7, 4, 6, 3, 1]), array([1, 2, 3, 5, 4, 7, 8, 6]), array([4, 3, 8, 2, 6, 5, 1, 7]), array([7, 3, 5, 1, 4, 2, 6, 8]), array([1, 5, 2, 8, 4, 6, 7, 3]), array([7, 1, 4, 6, 2, 8, 5, 3]), array([6, 3, 4, 8, 1, 7, 5, 2]), array([1, 2, 4, 5, 6, 7, 8, 3]), array([8, 6, 2, 1, 5, 4, 3, 7]), array([1, 4, 2, 3, 6, 7, 5, 8]), array([5, 6, 1, 4, 8, 2, 7, 3]), array([5, 4, 8, 2, 1, 3, 6, 7]), array([2, 3, 5, 6, 4, 1, 7, 8]), array([3, 6, 4, 5, 7, 8, 2, 1]), array([8, 2, 3, 1, 6, 7, 4, 5]), array([4, 3, 2, 8, 1, 7, 5, 6]), array([6, 7, 4, 5, 2, 3, 8, 1]), array([5, 1, 3, 4, 8, 6, 7, 2]), array([5, 3, 1, 8, 4, 2, 6, 7]), array([4, 2, 8, 1, 7, 5, 6, 3]), array([3, 6, 7, 5, 1, 4, 8, 2]), array([6, 1, 7, 4, 5, 2, 8, 3]), array([8, 3, 4, 5, 6, 2, 7, 1]), array([1, 4, 7, 6, 2, 5, 8, 3]), array([6, 7, 8, 4, 2, 3, 1, 5]), array([7, 4, 6, 2, 1, 8, 5, 3]), array([5, 8, 2, 3, 4, 1, 6, 7]), array([4, 2, 3, 8, 6, 5, 7, 1]), array([6, 7, 8, 1, 3, 5, 2, 4]), array([3, 1, 7, 5, 4, 6, 2, 8]), array([1, 5, 3, 2, 8, 4, 6, 7]), array([2, 5, 4, 6, 8, 1, 3, 7]), array([1, 2, 5, 4, 7, 3, 6, 8]), array([8, 2, 4, 6, 1, 7, 5, 3]), array([8, 5, 7, 3, 1, 6, 2, 4]), array([7, 2, 3, 4, 6, 5, 8, 1]), array([5, 7, 3, 6, 2, 4, 1, 8]), array([7, 5, 6, 1, 8, 2, 3, 4]), array([2, 7, 8, 1, 3, 4, 5, 6]), array([6, 1, 7, 5, 8, 3, 4, 2]), array([7, 1, 6, 4, 3, 2, 5, 8]), array([8, 2, 5, 3, 1, 6, 4, 7]), array([4, 7, 2, 6, 5, 8, 1, 3]), array([8, 3, 7, 5, 4, 1, 2, 6]), array([2, 8, 4, 5, 6, 7, 3, 1]), array([8, 4, 5, 6, 3, 2, 1, 7]), array([3, 2, 8, 6, 7, 1, 5, 4]), array([1, 6, 5, 8, 7, 2, 3, 4]), array([5, 3, 4, 1, 7, 8, 6, 2]), array([4, 1, 6, 8, 5, 2, 3, 7]), array([7, 1, 8, 3, 4, 6, 2, 5]), array([8, 2, 6, 7, 3, 4, 5, 1]), array([2, 3, 6, 4, 7, 8, 1, 5]), array([4, 3, 8, 5, 6, 2, 7, 1]), array([1, 3, 7, 8, 5, 2, 4, 6]), array([8, 7, 3, 4, 6, 2, 5, 1]), array([5, 7, 4, 1, 8, 3, 6, 2]), array([7, 2, 1, 4, 5, 8, 6, 3]), array([4, 5, 6, 3, 8, 7, 2, 1]), array([8, 5, 4, 2, 6, 1, 7, 3]), array([6, 8, 7, 1, 4, 5, 2, 3]), array([1, 4, 3, 8, 5, 7, 2, 6]), array([4, 8, 7, 5, 6, 2, 1, 3]), array([5, 7, 2, 1, 4, 6, 8, 3]), array([7, 4, 8, 2, 3, 5, 1, 6]), array([7, 5, 3, 2, 6, 1, 4, 8]), array([6, 5, 4, 1, 8, 3, 2, 7]), array([7, 3, 4, 8, 5, 1, 2, 6]), array([7, 2, 5, 8, 3, 6, 1, 4]), array([8, 1, 7, 6, 3, 5, 2, 4]), array([5, 3, 1, 6, 4, 7, 2, 8]), array([5, 8, 6, 7, 3, 2, 4, 1]), array([3, 5, 4, 7, 6, 8, 2, 1]), array([3, 1, 2, 5, 8, 6, 4, 7]), array([4, 1, 5, 8, 7, 3, 2, 6]), array([1, 4, 6, 3, 7, 2, 8, 5]), array([7, 6, 5, 3, 4, 8, 2, 1]), array([7, 4, 1, 5, 8, 2, 6, 3]), array([1, 5, 7, 2, 8, 4, 3, 6]), array([7, 6, 1, 4, 2, 5, 8, 3]), array([6, 5, 2, 1, 3, 8, 7, 4]), array([8, 2, 7, 5, 6, 3, 4, 1]), array([4, 7, 1, 5, 3, 2, 6, 8]), array([4, 3, 5, 1, 8, 2, 6, 7]), array([1, 6, 8, 7, 4, 2, 5, 3]), array([2, 7, 1, 5, 3, 8, 6, 4]), array([5, 3, 8, 6, 4, 1, 2, 7]), array([3, 4, 1, 7, 6, 5, 8, 2]), array([2, 3, 6, 8, 4, 7, 1, 5]), array([1, 6, 4, 7, 8, 3, 5, 2]), array([3, 8, 4, 1, 5, 2, 7, 6]), array([7, 5, 8, 6, 3, 4, 1, 2]), array([1, 4, 7, 5, 6, 8, 3, 2]), array([7, 4, 6, 3, 5, 1, 8, 2]), array([4, 1, 8, 6, 5, 3, 2, 7])]\n"
          ]
        }
      ]
    },
    {
      "cell_type": "code",
      "source": [
        "# Função de Fitness\n",
        "\n",
        "def fitness (vetorRainhas):\n",
        "  numColisao = 0 # inicialmente vetor colisoao zerado\n",
        "  global contFitness\n",
        "  contFitness += 1 #contador para ver quando chega em 10 mil\n",
        "\n",
        "  for j in range(8):\n",
        "    for k in range(j+1, 8):\n",
        "      if abs(j - k) == abs(vetorRainhas[j] - vetorRainhas[k]):\n",
        "        numColisao += 1\n",
        "      #precisa criar o que verifica a horizontal por causa das mutacoes\n",
        "      if vetorRainhas[j] == vetorRainhas[k]:\n",
        "        numColisao += 2\n",
        "\n",
        "  return numColisao\n",
        "\n",
        "# Associando cada indivíduo ao seu fitness\n",
        "#population = [(individuo, 1/(1+ fitness(individuo))) for individuo in new_population]\n",
        "population = [(individuo, fitness(individuo)) for individuo in new_population]"
      ],
      "metadata": {
        "id": "ex4HpSs9je-K"
      },
      "execution_count": null,
      "outputs": []
    },
    {
      "cell_type": "code",
      "source": [
        "def selecaoPais(populacao): #populacao vai ser uma tupla (ind,fitness)\n",
        "  todos = populacao.copy()\n",
        "  random.shuffle(todos) #embaralhando tuplas\n",
        "  selecionados = []\n",
        "  divisoes = [todos[i*5 : (i+1)*5] for i in range(20)] # 20 divisoes de 5\n",
        "\n",
        "  for j in range (20):\n",
        "   ordenado = sorted(divisoes[j], key=lambda x: x[1])\n",
        "   selecionados.extend(ordenado[:2]) #selecionando os 2 menores\n",
        "\n",
        "  return selecionados"
      ],
      "metadata": {
        "id": "QxsSSVcivdnz"
      },
      "execution_count": null,
      "outputs": []
    },
    {
      "cell_type": "code",
      "source": [
        "# Fazendo os pares dos pais\n",
        "def criacaoPares (populacao):\n",
        "      return [(populacao[i], populacao[i+1]) for i in range(0, len(populacao), 2)]"
      ],
      "metadata": {
        "id": "rHmP85Cf1T9v"
      },
      "execution_count": null,
      "outputs": []
    },
    {
      "cell_type": "code",
      "source": [
        "# Combinando os indíviudos\n",
        "# Código para a recombinação\n",
        "\n",
        "def recombinacao (pai, mae):\n",
        "  #pegando so o gene\n",
        "  genPai, _ = pai\n",
        "  genMae, _ = mae\n",
        "  permPai = genPai.copy()\n",
        "  permMae = genMae.copy()\n",
        "  divisao = random.randint(1, 7) #pos da divisao\n",
        "\n",
        "  def laco(pai, mae, divisao):\n",
        "    j=0\n",
        "    i= divisao + 1\n",
        "    vet = np.full(8-(divisao),0)\n",
        "    while True:\n",
        "      element = mae[i%8]\n",
        "      if element not in pai[:divisao]:\n",
        "        vet[j] = element\n",
        "        j+=1\n",
        "      i+=1\n",
        "      if j == 8-divisao:\n",
        "        break\n",
        "    return vet\n",
        "\n",
        "  if random.random() < probRECOMBINACAO:\n",
        "    filho1 = np.concatenate((permPai[:divisao], laco(permPai,permMae,divisao)))\n",
        "    filho2 = np.concatenate((permMae[:divisao], laco(permMae,permPai,divisao)))\n",
        "\n",
        "  else:\n",
        "    filho1 = permPai\n",
        "    filho2 = permMae\n",
        "\n",
        "  return filho1, filho2"
      ],
      "metadata": {
        "id": "XlJRCt8VRe-5"
      },
      "execution_count": null,
      "outputs": []
    },
    {
      "cell_type": "code",
      "source": [
        "# Código da Mutação genética\n",
        "def mutacao(individuo):\n",
        "  individuoMutado = individuo.copy()\n",
        "\n",
        "  if random.random() < probMUTACAO: # prob de 40% de se mudar\n",
        "    i, j = random.sample(range(len(individuoMutado)), 2)\n",
        "    individuoMutado[i], individuoMutado[j] = individuoMutado[j], individuoMutado[i]\n",
        "\n",
        "  return individuoMutado"
      ],
      "metadata": {
        "id": "I0l1WjMUfB2E"
      },
      "execution_count": null,
      "outputs": []
    },
    {
      "cell_type": "code",
      "source": [
        "def gerandoFilhos (populacao):\n",
        "  pares = criacaoPares(populacao)\n",
        "  filhos = []\n",
        "\n",
        "  for pai, mae in pares:\n",
        "    filho1, filho2 = recombinacao(pai, mae) #gera sem mutacao\n",
        "    mutacaoFilho1 = mutacao(filho1) #aplica a mutacao\n",
        "    mutacaoFilho2 = mutacao(filho2)\n",
        "    filhos.extend([mutacaoFilho1, mutacaoFilho2]) #cria um vet de filhos\n",
        "\n",
        "  return filhos"
      ],
      "metadata": {
        "id": "2dhibAgsA44F"
      },
      "execution_count": null,
      "outputs": []
    },
    {
      "cell_type": "code",
      "source": [
        "def selecaoPop (filhos,pai):\n",
        "  # o vet de pais tem (ge,fit)\n",
        "  # o vet de filhos tem (gen)\n",
        "  genPai = [gen for gen, fit in pais]\n",
        "  vetPais = genPai.copy()\n",
        "  vetFilhos = filhos.copy()\n",
        "\n",
        "  vetTodos = vetPais + vetFilhos\n",
        "  tuplaTodos = [(ind,(fitness(ind))) for ind in vetTodos]\n",
        "  ordTupla = sorted(tuplaTodos, key=lambda x: x[1]) #ordenando do menor para o maior\n",
        "\n",
        "  if (len(vetTodos) > tamPOPULACAO):\n",
        "    selecionados = ordTupla[:tamPOPULACAO] #selecionando os 100 primeiros (melhores)\n",
        "\n",
        "  else:\n",
        "    selecionados = ordTupla\n",
        "\n",
        "  return selecionados\n"
      ],
      "metadata": {
        "id": "ozBPMh0q7jW3"
      },
      "execution_count": null,
      "outputs": []
    },
    {
      "cell_type": "code",
      "source": [
        "# Verificar se a população gerada tem algm com fitness = 0 (combinação perfeita)\n",
        "def achouRainha (populacao):\n",
        "\n",
        "  for gen, fit in populacao:\n",
        "    if fit == 0 :\n",
        "      print(\"Achou a combinação:\", gen)\n",
        "      return True\n",
        "    return False\n",
        "\n"
      ],
      "metadata": {
        "id": "xDYO_5lQ_EwQ"
      },
      "execution_count": null,
      "outputs": []
    },
    {
      "cell_type": "code",
      "source": [
        "def main():\n",
        "  resultado = False\n",
        "  contGeracoes=0\n",
        "  new_population = [np.random.permutation(np.arange(1, 9)) for _ in range(tamPOPULACAO)] # Inicializando N indivíduos formados por permutações aleatórias de 1 a 8\n",
        "  population = [(individuo, fitness(individuo)) for individuo in new_population]\n",
        "\n",
        "  while (resultado == False or contFitness<10000):\n",
        "    contGeracoes += 1\n",
        "    print(\"Geração  \", contGeracoes)\n",
        "    #print(popAtualizada)\n",
        "    pais = selecaoPais(population)\n",
        "    #print(\"Geração de pais: \", pais)\n",
        "    filhos = gerandoFilhos(pais)\n",
        "    #print(\"Geração de filhos: \", filhos)\n",
        "    population = selecaoPop(filhos, pais)\n",
        "    resultado = achouRainha(population)\n",
        "\n",
        "    if resultado == True:\n",
        "      break\n",
        "\n",
        "\n",
        "if __name__ == \"__main__\":\n",
        "    main()\n"
      ],
      "metadata": {
        "colab": {
          "base_uri": "https://localhost:8080/"
        },
        "id": "d8dY0nUZFaCh",
        "outputId": "655c1567-559c-4d07-e23e-c03dfd5068f4"
      },
      "execution_count": null,
      "outputs": [
        {
          "output_type": "stream",
          "name": "stdout",
          "text": [
            "Geração   1\n",
            "Geração   2\n",
            "Geração   3\n",
            "Geração   4\n",
            "Geração   5\n",
            "Geração   6\n",
            "Geração   7\n",
            "Geração   8\n",
            "Geração   9\n",
            "Geração   10\n",
            "Geração   11\n",
            "Geração   12\n",
            "Geração   13\n",
            "Geração   14\n",
            "Geração   15\n",
            "Geração   16\n",
            "Geração   17\n",
            "Geração   18\n",
            "Geração   19\n",
            "Geração   20\n",
            "Geração   21\n",
            "Geração   22\n",
            "Geração   23\n",
            "Geração   24\n",
            "Geração   25\n",
            "Geração   26\n",
            "Geração   27\n",
            "Geração   28\n",
            "Geração   29\n",
            "Geração   30\n",
            "Geração   31\n",
            "Geração   32\n",
            "Geração   33\n",
            "Geração   34\n",
            "Geração   35\n",
            "Geração   36\n",
            "Geração   37\n",
            "Geração   38\n",
            "Geração   39\n",
            "Geração   40\n",
            "Geração   41\n",
            "Achou a combinação: [6 1 5 2 8 3 7 4]\n"
          ]
        }
      ]
    }
  ]
}